{
 "cells": [
  {
   "cell_type": "code",
   "execution_count": 2,
   "id": "55f9cb5b",
   "metadata": {},
   "outputs": [],
   "source": [
    "import pandas as pd\n",
    "import numpy as np"
   ]
  },
  {
   "cell_type": "code",
   "execution_count": 31,
   "id": "a94584a1",
   "metadata": {},
   "outputs": [
    {
     "name": "stdout",
     "output_type": "stream",
     "text": [
      "   id     anima     sex    name  data1  data2\n",
      "0  42       cat    male  pushok      0      0\n",
      "1  43       dog  female    Dora      0      0\n",
      "2   3  elephant    male   Archi      0      0\n",
      "3  55       dog    male    haha      0      0\n",
      "4  33  elephant  female    Kora      0      0\n"
     ]
    }
   ],
   "source": [
    "data = pd.read_csv('input.txt')\n",
    "print(data)"
   ]
  },
  {
   "cell_type": "code",
   "execution_count": 32,
   "id": "fb1bbb0a",
   "metadata": {},
   "outputs": [
    {
     "data": {
      "text/html": [
       "<div>\n",
       "<style scoped>\n",
       "    .dataframe tbody tr th:only-of-type {\n",
       "        vertical-align: middle;\n",
       "    }\n",
       "\n",
       "    .dataframe tbody tr th {\n",
       "        vertical-align: top;\n",
       "    }\n",
       "\n",
       "    .dataframe thead th {\n",
       "        text-align: right;\n",
       "    }\n",
       "</style>\n",
       "<table border=\"1\" class=\"dataframe\">\n",
       "  <thead>\n",
       "    <tr style=\"text-align: right;\">\n",
       "      <th></th>\n",
       "      <th>id</th>\n",
       "      <th>anima</th>\n",
       "      <th>sex</th>\n",
       "      <th>name</th>\n",
       "      <th>data1</th>\n",
       "      <th>data2</th>\n",
       "    </tr>\n",
       "  </thead>\n",
       "  <tbody>\n",
       "    <tr>\n",
       "      <th>0</th>\n",
       "      <td>42</td>\n",
       "      <td>cat</td>\n",
       "      <td>male</td>\n",
       "      <td>pushok</td>\n",
       "      <td>0</td>\n",
       "      <td>0</td>\n",
       "    </tr>\n",
       "    <tr>\n",
       "      <th>1</th>\n",
       "      <td>43</td>\n",
       "      <td>dog</td>\n",
       "      <td>female</td>\n",
       "      <td>Dora</td>\n",
       "      <td>0</td>\n",
       "      <td>0</td>\n",
       "    </tr>\n",
       "    <tr>\n",
       "      <th>2</th>\n",
       "      <td>3</td>\n",
       "      <td>elephant</td>\n",
       "      <td>male</td>\n",
       "      <td>Archi</td>\n",
       "      <td>0</td>\n",
       "      <td>0</td>\n",
       "    </tr>\n",
       "    <tr>\n",
       "      <th>3</th>\n",
       "      <td>55</td>\n",
       "      <td>dog</td>\n",
       "      <td>male</td>\n",
       "      <td>haha</td>\n",
       "      <td>0</td>\n",
       "      <td>0</td>\n",
       "    </tr>\n",
       "    <tr>\n",
       "      <th>4</th>\n",
       "      <td>33</td>\n",
       "      <td>elephant</td>\n",
       "      <td>female</td>\n",
       "      <td>Kora</td>\n",
       "      <td>0</td>\n",
       "      <td>0</td>\n",
       "    </tr>\n",
       "  </tbody>\n",
       "</table>\n",
       "</div>"
      ],
      "text/plain": [
       "   id     anima     sex    name  data1  data2\n",
       "0  42       cat    male  pushok      0      0\n",
       "1  43       dog  female    Dora      0      0\n",
       "2   3  elephant    male   Archi      0      0\n",
       "3  55       dog    male    haha      0      0\n",
       "4  33  elephant  female    Kora      0      0"
      ]
     },
     "execution_count": 32,
     "metadata": {},
     "output_type": "execute_result"
    }
   ],
   "source": [
    "data.head()"
   ]
  },
  {
   "cell_type": "code",
   "execution_count": 33,
   "id": "8ecc6a62",
   "metadata": {},
   "outputs": [],
   "source": [
    "data = data.drop(['id','name','data1','data2'], axis=1)"
   ]
  },
  {
   "cell_type": "code",
   "execution_count": 34,
   "id": "aa769478",
   "metadata": {},
   "outputs": [
    {
     "name": "stdout",
     "output_type": "stream",
     "text": [
      "{'elephant', 'dog'}\n"
     ]
    }
   ],
   "source": [
    "Animals = set()\n",
    "for animal in data['anima']:\n",
    "    M=False\n",
    "    W=False\n",
    "    for row in data.itertuples(index=False):\n",
    "        if (row[0]==animal) & (row[1]=='male'): \n",
    "            M=True\n",
    "        if (row[0]==animal) & (row[1]=='female'): \n",
    "            W=True\n",
    "        if (W==1) & (M==1):\n",
    "            Animals.add(animal)\n",
    "            break\n",
    "print(Animals)\n",
    "             "
   ]
  },
  {
   "cell_type": "code",
   "execution_count": 35,
   "id": "62e1f73a",
   "metadata": {},
   "outputs": [],
   "source": [
    "An=list(Animals)\n",
    "An.sort(key=lambda x: len(x))"
   ]
  },
  {
   "cell_type": "code",
   "execution_count": 36,
   "id": "0d405fe5",
   "metadata": {},
   "outputs": [
    {
     "name": "stdout",
     "output_type": "stream",
     "text": [
      "['dog', 'elephant']\n"
     ]
    }
   ],
   "source": [
    "print(An)"
   ]
  },
  {
   "cell_type": "code",
   "execution_count": 38,
   "id": "e89a0b51",
   "metadata": {},
   "outputs": [
    {
     "name": "stdout",
     "output_type": "stream",
     "text": [
      "<class 'pandas.core.frame.DataFrame'>\n",
      "RangeIndex: 5 entries, 0 to 4\n",
      "Data columns (total 2 columns):\n",
      " #   Column  Non-Null Count  Dtype \n",
      "---  ------  --------------  ----- \n",
      " 0   anima   5 non-null      object\n",
      " 1   sex     5 non-null      object\n",
      "dtypes: object(2)\n",
      "memory usage: 208.0+ bytes\n"
     ]
    }
   ],
   "source": [
    "data.info()"
   ]
  },
  {
   "cell_type": "code",
   "execution_count": 40,
   "id": "936f156d",
   "metadata": {},
   "outputs": [
    {
     "name": "stdout",
     "output_type": "stream",
     "text": [
      "dog         2\n",
      "elephant    2\n",
      "cat         1\n",
      "Name: anima, dtype: int64\n"
     ]
    }
   ],
   "source": [
    "print(data['anima'].value_counts())\n"
   ]
  },
  {
   "cell_type": "code",
   "execution_count": 49,
   "id": "3340d462",
   "metadata": {},
   "outputs": [],
   "source": [
    "from matplotlib import pyplot as plt\n",
    "import math as m"
   ]
  },
  {
   "cell_type": "code",
   "execution_count": 64,
   "id": "39e66507",
   "metadata": {},
   "outputs": [],
   "source": [
    "def temperature(t):\n",
    "    return np.arctan(-0.0012*t**3+0.4*t**2+0.616*t+6120)+0.65*np.sin(0.24*t+1.23)-0.27*np.cos(0.21*t-0.17)-np.sin(0.34*t+0.16)/(1+0.03*(t-370.5)**2)"
   ]
  },
  {
   "cell_type": "code",
   "execution_count": 79,
   "id": "e620a3eb",
   "metadata": {},
   "outputs": [
    {
     "name": "stdout",
     "output_type": "stream",
     "text": [
      "[371.64]\n"
     ]
    },
    {
     "data": {
      "image/png": "[encoded data removed]",
      "text/plain": [
       "<Figure size 1440x360 with 1 Axes>"
      ]
     },
     "metadata": {
      "needs_background": "light"
     },
     "output_type": "display_data"
    }
   ],
   "source": [
    "plt.figure(figsize=(20, 5))\n",
    "plt.subplot(1, 1, 1)\n",
    "plt.xlim(0, 1000)\n",
    "plt.xlabel(\"year\")\n",
    "plt.ylabel(\"temperature\")\n",
    "x=np.arange(0., 1000., 0.001)\n",
    "plt.plot(x, temperature(x))\n",
    "y=[temperature(t) for t in x]\n",
    "s = np.sign(y)\n",
    "zeroes = []\n",
    "year_zeroes=[]\n",
    "for i in range(1,len(y)):\n",
    "    if s[i-1] + s[i] == 0:\n",
    "        zeroes.append(i)\n",
    "        year_zeroes.append(x[i])\n",
    "plt.plot([x[i] for i in zeroes], [y[i] for i in zeroes],'ro')\n",
    "plt.grid()\n",
    "print(year_zeroes)"
   ]
  },
  {
   "cell_type": "code",
   "execution_count": 2,
   "id": "03dd2827",
   "metadata": {},
   "outputs": [
    {
     "name": "stdout",
     "output_type": "stream",
     "text": [
      "'Мцыри', 'Преступление и наказание', 'Кортик', 'Бородино', 'Молодая гвардия', 'Евгений Онегин', 'Герой нашего времени', 'Идиот', 'Зойкина квартира', 'Демон', 'Собачье Сердце', 'Сборник романов Достоевского', 'Стихотворения Лермонтова', 'Белая гвардия', 'Мастер и Маргарита', 'Лучшие произведения М.Ю. Лермонтова', 'Горячий снег', 'Дикая собака Динго', 'Беглец', 'Стихотворения Пушкина', 'Василий Теркин', 'Выхожу один я на дорогу', 'Война и Мир', 'Анна Каренина', 'Кинжал',\n",
      "         'Севастопольские рассказы', 'Бал', 'Ангел', 'Романы Толстого', 'Князь Серебряный','Сердца Трех','По Ком Звонит Колокол', 'Марк Твен', 'Малыш и Карлсон', 'Великий Гетсби', 'Маугли',\n",
      "         'Мио, Мой Мио', 'На западном фронте без перемен', 'Портрет Дориана Грея', 'Мартин Иден', 'Собор Парижской Богоматери', 'Отверженные', 'Белый Клык', 'Человек, который смеется', 'Детективы Агаты Кристи',\n",
      "         'Фауст', 'Лучшие стихотворения Киплинга', 'Рубаи Омара Хайяма', 'Сонеты Уильяма Шекспира', 'Гомер: Иллиада', 'Гомер: Одиссея', 'Ворон', 'Уильям Блейк',\n",
      "         'Гораций', 'Басё', 'Сборник стихотворений Гёте', 'Шиллер. Избраннные произведения', 'Сайгё', 'Сборник Роберта Бернса', 'Омар Хайям'\n"
     ]
    }
   ],
   "source": [
    "with open('book.txt', 'r',encoding='utf-8') as f:\n",
    "  databook = f.read()\n",
    "  print(databook)"
   ]
  },
  {
   "cell_type": "code",
   "execution_count": 3,
   "id": "16f8b2b3",
   "metadata": {},
   "outputs": [],
   "source": [
    "databook = databook.strip(' ')"
   ]
  },
  {
   "cell_type": "code",
   "execution_count": 4,
   "id": "f11ce13c",
   "metadata": {},
   "outputs": [],
   "source": [
    "databook = databook.replace('\\n', ' ')"
   ]
  },
  {
   "cell_type": "code",
   "execution_count": 5,
   "id": "81ad3bce",
   "metadata": {},
   "outputs": [],
   "source": [
    "databook = databook.split('\\', \\'')"
   ]
  },
  {
   "cell_type": "code",
   "execution_count": 6,
   "id": "2a9edb4c",
   "metadata": {},
   "outputs": [
    {
     "data": {
      "text/plain": [
       "[\"'Мцыри\",\n",
       " 'Преступление и наказание',\n",
       " 'Кортик',\n",
       " 'Бородино',\n",
       " 'Молодая гвардия',\n",
       " 'Евгений Онегин',\n",
       " 'Герой нашего времени',\n",
       " 'Идиот',\n",
       " 'Зойкина квартира',\n",
       " 'Демон',\n",
       " 'Собачье Сердце',\n",
       " 'Сборник романов Достоевского',\n",
       " 'Стихотворения Лермонтова',\n",
       " 'Белая гвардия',\n",
       " 'Мастер и Маргарита',\n",
       " 'Лучшие произведения М.Ю. Лермонтова',\n",
       " 'Горячий снег',\n",
       " 'Дикая собака Динго',\n",
       " 'Беглец',\n",
       " 'Стихотворения Пушкина',\n",
       " 'Василий Теркин',\n",
       " 'Выхожу один я на дорогу',\n",
       " 'Война и Мир',\n",
       " 'Анна Каренина',\n",
       " \"Кинжал',          'Севастопольские рассказы\",\n",
       " 'Бал',\n",
       " 'Ангел',\n",
       " 'Романы Толстого',\n",
       " \"Князь Серебряный','Сердца Трех','По Ком Звонит Колокол\",\n",
       " 'Марк Твен',\n",
       " 'Малыш и Карлсон',\n",
       " 'Великий Гетсби',\n",
       " \"Маугли',          'Мио, Мой Мио\",\n",
       " 'На западном фронте без перемен',\n",
       " 'Портрет Дориана Грея',\n",
       " 'Мартин Иден',\n",
       " 'Собор Парижской Богоматери',\n",
       " 'Отверженные',\n",
       " 'Белый Клык',\n",
       " 'Человек, который смеется',\n",
       " \"Детективы Агаты Кристи',          'Фауст\",\n",
       " 'Лучшие стихотворения Киплинга',\n",
       " 'Рубаи Омара Хайяма',\n",
       " 'Сонеты Уильяма Шекспира',\n",
       " 'Гомер: Иллиада',\n",
       " 'Гомер: Одиссея',\n",
       " 'Ворон',\n",
       " \"Уильям Блейк',          'Гораций\",\n",
       " 'Басё',\n",
       " 'Сборник стихотворений Гёте',\n",
       " 'Шиллер. Избраннные произведения',\n",
       " 'Сайгё',\n",
       " 'Сборник Роберта Бернса',\n",
       " \"Омар Хайям'\"]"
      ]
     },
     "execution_count": 6,
     "metadata": {},
     "output_type": "execute_result"
    }
   ],
   "source": [
    "databook"
   ]
  },
  {
   "cell_type": "code",
   "execution_count": 64,
   "id": "511b7ce5",
   "metadata": {},
   "outputs": [
    {
     "data": {
      "text/plain": [
       "['Романы Толстого',\n",
       " 'Малыш и Карлсон',\n",
       " 'На западном фронте без перемен',\n",
       " 'Собор Парижской Богоматери']"
      ]
     },
     "execution_count": 64,
     "metadata": {},
     "output_type": "execute_result"
    }
   ],
   "source": []
  }
 ],
 "metadata": {
  "kernelspec": {
   "display_name": "Python 3 (ipykernel)",
   "language": "python",
   "name": "python3"
  },
  "language_info": {
   "codemirror_mode": {
    "name": "ipython",
    "version": 3
   },
   "file_extension": ".py",
   "mimetype": "text/x-python",
   "name": "python",
   "nbconvert_exporter": "python",
   "pygments_lexer": "ipython3",
   "version": "3.9.7"
  }
 },
 "nbformat": 4,
 "nbformat_minor": 5
}
