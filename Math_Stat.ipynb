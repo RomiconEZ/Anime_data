{
 "cells": [
  {
   "cell_type": "code",
   "execution_count": 102,
   "id": "f8458abf",
   "metadata": {},
   "outputs": [],
   "source": [
    "import numpy as np\n",
    "import pandas as pd\n",
    "%matplotlib inline\n",
    "import matplotlib.pyplot as plt\n",
    "import matplotlib.ticker as ticker\n",
    "\n",
    "import matplotlib\n",
    "import seaborn as sns\n",
    "import scipy.stats as sps"
   ]
  },
  {
   "cell_type": "code",
   "execution_count": 182,
   "id": "9f07a73e",
   "metadata": {},
   "outputs": [],
   "source": [
    "Mel=pd.Series([26, 35, 23, 27, 26, 25, 33, 26, 25, 29, 30, 28, 24, 28, 23, 21, 24, 32, 27, 23, 24, 24, 23, 31, 32, 35, 23, 23])"
   ]
  },
  {
   "cell_type": "code",
   "execution_count": 183,
   "id": "44a7a62e",
   "metadata": {},
   "outputs": [],
   "source": [
    "Syd=pd.Series([28, 28, 29, 29, 30, 27, 30, 25, 24, 25, 24, 29, 26, 28, 29, 31, 23, 26, 29, 31, 26, 27, 26, 27, 25, 29, 37, 25])"
   ]
  },
  {
   "cell_type": "code",
   "execution_count": 184,
   "id": "b01e3d7d",
   "metadata": {},
   "outputs": [],
   "source": [
    "Mel.sort_values(inplace=True)\n",
    "Syd.sort_values(inplace=True)\n",
    "Mel.reset_index(drop=True, inplace=True)\n",
    "Syd.reset_index(drop=True, inplace=True)"
   ]
  },
  {
   "cell_type": "code",
   "execution_count": 185,
   "id": "ece10e64",
   "metadata": {},
   "outputs": [
    {
     "name": "stdout",
     "output_type": "stream",
     "text": [
      "    Melburn  Sydney\n",
      "0        21      23\n",
      "1        23      24\n",
      "2        23      24\n",
      "3        23      25\n",
      "4        23      25\n",
      "5        23      25\n",
      "6        23      25\n",
      "7        24      26\n",
      "8        24      26\n",
      "9        24      26\n",
      "10       24      26\n",
      "11       25      27\n",
      "12       25      27\n",
      "13       26      27\n",
      "14       26      28\n",
      "15       26      28\n",
      "16       27      28\n",
      "17       27      29\n",
      "18       28      29\n",
      "19       28      29\n",
      "20       29      29\n",
      "21       30      29\n",
      "22       31      29\n",
      "23       32      30\n",
      "24       32      30\n",
      "25       33      31\n",
      "26       35      31\n",
      "27       35      37\n"
     ]
    }
   ],
   "source": [
    "data=pd.concat([Mel, Syd], axis=1, join='outer')\n",
    "data=data.rename(columns={\n",
    "    0:\"Melburn\",\n",
    "    1:\"Sydney\"\n",
    "})\n",
    "print(data)"
   ]
  },
  {
   "cell_type": "markdown",
   "id": "a856f92f",
   "metadata": {},
   "source": [
    "# Вывод без ограничений\n",
    "with pd.option_context('display.max_rows', None, 'display.max_columns', None):  # more options can be specified also\n",
    "    print(\"Мельбурн\")\n",
    "    print(Mel)\n",
    "    print(\"Сидней\")\n",
    "    print(Syd)"
   ]
  },
  {
   "cell_type": "code",
   "execution_count": 186,
   "id": "c6fae657",
   "metadata": {},
   "outputs": [
    {
     "data": {
      "text/html": [
       "<div>\n",
       "<style scoped>\n",
       "    .dataframe tbody tr th:only-of-type {\n",
       "        vertical-align: middle;\n",
       "    }\n",
       "\n",
       "    .dataframe tbody tr th {\n",
       "        vertical-align: top;\n",
       "    }\n",
       "\n",
       "    .dataframe thead th {\n",
       "        text-align: right;\n",
       "    }\n",
       "</style>\n",
       "<table border=\"1\" class=\"dataframe\">\n",
       "  <thead>\n",
       "    <tr style=\"text-align: right;\">\n",
       "      <th></th>\n",
       "      <th>Melbourne</th>\n",
       "      <th>Sydney</th>\n",
       "    </tr>\n",
       "  </thead>\n",
       "  <tbody>\n",
       "    <tr>\n",
       "      <th>count</th>\n",
       "      <td>28.000000</td>\n",
       "      <td>28.000000</td>\n",
       "    </tr>\n",
       "    <tr>\n",
       "      <th>mean</th>\n",
       "      <td>26.785714</td>\n",
       "      <td>27.607143</td>\n",
       "    </tr>\n",
       "    <tr>\n",
       "      <th>std</th>\n",
       "      <td>3.956777</td>\n",
       "      <td>2.858895</td>\n",
       "    </tr>\n",
       "    <tr>\n",
       "      <th>min</th>\n",
       "      <td>21.000000</td>\n",
       "      <td>23.000000</td>\n",
       "    </tr>\n",
       "    <tr>\n",
       "      <th>25%</th>\n",
       "      <td>23.750000</td>\n",
       "      <td>25.750000</td>\n",
       "    </tr>\n",
       "    <tr>\n",
       "      <th>50%</th>\n",
       "      <td>26.000000</td>\n",
       "      <td>27.500000</td>\n",
       "    </tr>\n",
       "    <tr>\n",
       "      <th>75%</th>\n",
       "      <td>29.250000</td>\n",
       "      <td>29.000000</td>\n",
       "    </tr>\n",
       "    <tr>\n",
       "      <th>max</th>\n",
       "      <td>35.000000</td>\n",
       "      <td>37.000000</td>\n",
       "    </tr>\n",
       "  </tbody>\n",
       "</table>\n",
       "</div>"
      ],
      "text/plain": [
       "       Melbourne     Sydney\n",
       "count  28.000000  28.000000\n",
       "mean   26.785714  27.607143\n",
       "std     3.956777   2.858895\n",
       "min    21.000000  23.000000\n",
       "25%    23.750000  25.750000\n",
       "50%    26.000000  27.500000\n",
       "75%    29.250000  29.000000\n",
       "max    35.000000  37.000000"
      ]
     },
     "execution_count": 186,
     "metadata": {},
     "output_type": "execute_result"
    }
   ],
   "source": [
    "df = pd.DataFrame({'Melbourne': Mel, 'Sydney': Syd})\n",
    "df.describe()"
   ]
  },
  {
   "cell_type": "code",
   "execution_count": 187,
   "id": "c0008e5c",
   "metadata": {},
   "outputs": [
    {
     "data": {
      "text/html": [
       "<div>\n",
       "<style scoped>\n",
       "    .dataframe tbody tr th:only-of-type {\n",
       "        vertical-align: middle;\n",
       "    }\n",
       "\n",
       "    .dataframe tbody tr th {\n",
       "        vertical-align: top;\n",
       "    }\n",
       "\n",
       "    .dataframe thead th {\n",
       "        text-align: right;\n",
       "    }\n",
       "</style>\n",
       "<table border=\"1\" class=\"dataframe\">\n",
       "  <thead>\n",
       "    <tr style=\"text-align: right;\">\n",
       "      <th></th>\n",
       "      <th>Sydney</th>\n",
       "    </tr>\n",
       "  </thead>\n",
       "  <tbody>\n",
       "    <tr>\n",
       "      <th>29</th>\n",
       "      <td>6</td>\n",
       "    </tr>\n",
       "    <tr>\n",
       "      <th>25</th>\n",
       "      <td>4</td>\n",
       "    </tr>\n",
       "    <tr>\n",
       "      <th>26</th>\n",
       "      <td>4</td>\n",
       "    </tr>\n",
       "    <tr>\n",
       "      <th>27</th>\n",
       "      <td>3</td>\n",
       "    </tr>\n",
       "    <tr>\n",
       "      <th>28</th>\n",
       "      <td>3</td>\n",
       "    </tr>\n",
       "    <tr>\n",
       "      <th>24</th>\n",
       "      <td>2</td>\n",
       "    </tr>\n",
       "    <tr>\n",
       "      <th>30</th>\n",
       "      <td>2</td>\n",
       "    </tr>\n",
       "    <tr>\n",
       "      <th>31</th>\n",
       "      <td>2</td>\n",
       "    </tr>\n",
       "    <tr>\n",
       "      <th>23</th>\n",
       "      <td>1</td>\n",
       "    </tr>\n",
       "    <tr>\n",
       "      <th>37</th>\n",
       "      <td>1</td>\n",
       "    </tr>\n",
       "  </tbody>\n",
       "</table>\n",
       "</div>"
      ],
      "text/plain": [
       "    Sydney\n",
       "29       6\n",
       "25       4\n",
       "26       4\n",
       "27       3\n",
       "28       3\n",
       "24       2\n",
       "30       2\n",
       "31       2\n",
       "23       1\n",
       "37       1"
      ]
     },
     "execution_count": 187,
     "metadata": {},
     "output_type": "execute_result"
    }
   ],
   "source": [
    "Syd_fre = pd.DataFrame(df['Sydney'].value_counts())\n",
    "Syd_fre"
   ]
  },
  {
   "cell_type": "code",
   "execution_count": 188,
   "id": "e3c9d7de",
   "metadata": {},
   "outputs": [
    {
     "data": {
      "text/html": [
       "<div>\n",
       "<style scoped>\n",
       "    .dataframe tbody tr th:only-of-type {\n",
       "        vertical-align: middle;\n",
       "    }\n",
       "\n",
       "    .dataframe tbody tr th {\n",
       "        vertical-align: top;\n",
       "    }\n",
       "\n",
       "    .dataframe thead th {\n",
       "        text-align: right;\n",
       "    }\n",
       "</style>\n",
       "<table border=\"1\" class=\"dataframe\">\n",
       "  <thead>\n",
       "    <tr style=\"text-align: right;\">\n",
       "      <th></th>\n",
       "      <th>Melbourne</th>\n",
       "    </tr>\n",
       "  </thead>\n",
       "  <tbody>\n",
       "    <tr>\n",
       "      <th>23</th>\n",
       "      <td>6</td>\n",
       "    </tr>\n",
       "    <tr>\n",
       "      <th>24</th>\n",
       "      <td>4</td>\n",
       "    </tr>\n",
       "    <tr>\n",
       "      <th>26</th>\n",
       "      <td>3</td>\n",
       "    </tr>\n",
       "    <tr>\n",
       "      <th>25</th>\n",
       "      <td>2</td>\n",
       "    </tr>\n",
       "    <tr>\n",
       "      <th>27</th>\n",
       "      <td>2</td>\n",
       "    </tr>\n",
       "    <tr>\n",
       "      <th>28</th>\n",
       "      <td>2</td>\n",
       "    </tr>\n",
       "    <tr>\n",
       "      <th>32</th>\n",
       "      <td>2</td>\n",
       "    </tr>\n",
       "    <tr>\n",
       "      <th>35</th>\n",
       "      <td>2</td>\n",
       "    </tr>\n",
       "    <tr>\n",
       "      <th>21</th>\n",
       "      <td>1</td>\n",
       "    </tr>\n",
       "    <tr>\n",
       "      <th>29</th>\n",
       "      <td>1</td>\n",
       "    </tr>\n",
       "    <tr>\n",
       "      <th>30</th>\n",
       "      <td>1</td>\n",
       "    </tr>\n",
       "    <tr>\n",
       "      <th>31</th>\n",
       "      <td>1</td>\n",
       "    </tr>\n",
       "    <tr>\n",
       "      <th>33</th>\n",
       "      <td>1</td>\n",
       "    </tr>\n",
       "  </tbody>\n",
       "</table>\n",
       "</div>"
      ],
      "text/plain": [
       "    Melbourne\n",
       "23          6\n",
       "24          4\n",
       "26          3\n",
       "25          2\n",
       "27          2\n",
       "28          2\n",
       "32          2\n",
       "35          2\n",
       "21          1\n",
       "29          1\n",
       "30          1\n",
       "31          1\n",
       "33          1"
      ]
     },
     "execution_count": 188,
     "metadata": {},
     "output_type": "execute_result"
    }
   ],
   "source": [
    "Mel_fre = pd.DataFrame(df['Melbourne'].value_counts())\n",
    "Mel_fre"
   ]
  },
  {
   "cell_type": "code",
   "execution_count": 189,
   "id": "33560bfa",
   "metadata": {},
   "outputs": [
    {
     "data": {
      "text/html": [
       "<div>\n",
       "<style scoped>\n",
       "    .dataframe tbody tr th:only-of-type {\n",
       "        vertical-align: middle;\n",
       "    }\n",
       "\n",
       "    .dataframe tbody tr th {\n",
       "        vertical-align: top;\n",
       "    }\n",
       "\n",
       "    .dataframe thead th {\n",
       "        text-align: right;\n",
       "    }\n",
       "</style>\n",
       "<table border=\"1\" class=\"dataframe\">\n",
       "  <thead>\n",
       "    <tr style=\"text-align: right;\">\n",
       "      <th></th>\n",
       "      <th>Values</th>\n",
       "    </tr>\n",
       "  </thead>\n",
       "  <tbody>\n",
       "    <tr>\n",
       "      <th>0</th>\n",
       "      <td>21</td>\n",
       "    </tr>\n",
       "    <tr>\n",
       "      <th>1</th>\n",
       "      <td>23</td>\n",
       "    </tr>\n",
       "    <tr>\n",
       "      <th>2</th>\n",
       "      <td>24</td>\n",
       "    </tr>\n",
       "    <tr>\n",
       "      <th>3</th>\n",
       "      <td>25</td>\n",
       "    </tr>\n",
       "    <tr>\n",
       "      <th>4</th>\n",
       "      <td>26</td>\n",
       "    </tr>\n",
       "    <tr>\n",
       "      <th>5</th>\n",
       "      <td>27</td>\n",
       "    </tr>\n",
       "    <tr>\n",
       "      <th>6</th>\n",
       "      <td>28</td>\n",
       "    </tr>\n",
       "    <tr>\n",
       "      <th>7</th>\n",
       "      <td>29</td>\n",
       "    </tr>\n",
       "    <tr>\n",
       "      <th>8</th>\n",
       "      <td>30</td>\n",
       "    </tr>\n",
       "    <tr>\n",
       "      <th>9</th>\n",
       "      <td>31</td>\n",
       "    </tr>\n",
       "    <tr>\n",
       "      <th>10</th>\n",
       "      <td>32</td>\n",
       "    </tr>\n",
       "    <tr>\n",
       "      <th>11</th>\n",
       "      <td>33</td>\n",
       "    </tr>\n",
       "    <tr>\n",
       "      <th>12</th>\n",
       "      <td>35</td>\n",
       "    </tr>\n",
       "    <tr>\n",
       "      <th>13</th>\n",
       "      <td>37</td>\n",
       "    </tr>\n",
       "  </tbody>\n",
       "</table>\n",
       "</div>"
      ],
      "text/plain": [
       "    Values\n",
       "0       21\n",
       "1       23\n",
       "2       24\n",
       "3       25\n",
       "4       26\n",
       "5       27\n",
       "6       28\n",
       "7       29\n",
       "8       30\n",
       "9       31\n",
       "10      32\n",
       "11      33\n",
       "12      35\n",
       "13      37"
      ]
     },
     "execution_count": 189,
     "metadata": {},
     "output_type": "execute_result"
    }
   ],
   "source": [
    "df_freq = pd.DataFrame({'Values': list(set(Mel) | set(Syd))})\n",
    "df_freq"
   ]
  },
  {
   "cell_type": "code",
   "execution_count": 190,
   "id": "58904513",
   "metadata": {},
   "outputs": [
    {
     "data": {
      "text/html": [
       "<div>\n",
       "<style scoped>\n",
       "    .dataframe tbody tr th:only-of-type {\n",
       "        vertical-align: middle;\n",
       "    }\n",
       "\n",
       "    .dataframe tbody tr th {\n",
       "        vertical-align: top;\n",
       "    }\n",
       "\n",
       "    .dataframe thead th {\n",
       "        text-align: right;\n",
       "    }\n",
       "</style>\n",
       "<table border=\"1\" class=\"dataframe\">\n",
       "  <thead>\n",
       "    <tr style=\"text-align: right;\">\n",
       "      <th></th>\n",
       "      <th>Melbourne</th>\n",
       "      <th>Sydney</th>\n",
       "    </tr>\n",
       "    <tr>\n",
       "      <th>Values</th>\n",
       "      <th></th>\n",
       "      <th></th>\n",
       "    </tr>\n",
       "  </thead>\n",
       "  <tbody>\n",
       "    <tr>\n",
       "      <th>21</th>\n",
       "      <td>1.0</td>\n",
       "      <td>NaN</td>\n",
       "    </tr>\n",
       "    <tr>\n",
       "      <th>23</th>\n",
       "      <td>6.0</td>\n",
       "      <td>1.0</td>\n",
       "    </tr>\n",
       "    <tr>\n",
       "      <th>24</th>\n",
       "      <td>4.0</td>\n",
       "      <td>2.0</td>\n",
       "    </tr>\n",
       "    <tr>\n",
       "      <th>25</th>\n",
       "      <td>2.0</td>\n",
       "      <td>4.0</td>\n",
       "    </tr>\n",
       "    <tr>\n",
       "      <th>26</th>\n",
       "      <td>3.0</td>\n",
       "      <td>4.0</td>\n",
       "    </tr>\n",
       "    <tr>\n",
       "      <th>27</th>\n",
       "      <td>2.0</td>\n",
       "      <td>3.0</td>\n",
       "    </tr>\n",
       "    <tr>\n",
       "      <th>28</th>\n",
       "      <td>2.0</td>\n",
       "      <td>3.0</td>\n",
       "    </tr>\n",
       "    <tr>\n",
       "      <th>29</th>\n",
       "      <td>1.0</td>\n",
       "      <td>6.0</td>\n",
       "    </tr>\n",
       "    <tr>\n",
       "      <th>30</th>\n",
       "      <td>1.0</td>\n",
       "      <td>2.0</td>\n",
       "    </tr>\n",
       "    <tr>\n",
       "      <th>31</th>\n",
       "      <td>1.0</td>\n",
       "      <td>2.0</td>\n",
       "    </tr>\n",
       "    <tr>\n",
       "      <th>32</th>\n",
       "      <td>2.0</td>\n",
       "      <td>NaN</td>\n",
       "    </tr>\n",
       "    <tr>\n",
       "      <th>33</th>\n",
       "      <td>1.0</td>\n",
       "      <td>NaN</td>\n",
       "    </tr>\n",
       "    <tr>\n",
       "      <th>35</th>\n",
       "      <td>2.0</td>\n",
       "      <td>NaN</td>\n",
       "    </tr>\n",
       "    <tr>\n",
       "      <th>37</th>\n",
       "      <td>NaN</td>\n",
       "      <td>1.0</td>\n",
       "    </tr>\n",
       "  </tbody>\n",
       "</table>\n",
       "</div>"
      ],
      "text/plain": [
       "        Melbourne  Sydney\n",
       "Values                   \n",
       "21            1.0     NaN\n",
       "23            6.0     1.0\n",
       "24            4.0     2.0\n",
       "25            2.0     4.0\n",
       "26            3.0     4.0\n",
       "27            2.0     3.0\n",
       "28            2.0     3.0\n",
       "29            1.0     6.0\n",
       "30            1.0     2.0\n",
       "31            1.0     2.0\n",
       "32            2.0     NaN\n",
       "33            1.0     NaN\n",
       "35            2.0     NaN\n",
       "37            NaN     1.0"
      ]
     },
     "execution_count": 190,
     "metadata": {},
     "output_type": "execute_result"
    }
   ],
   "source": [
    "Val_Mel = df_freq.merge(Mel_fre, left_on='Values', right_index=True, how='outer') # Объединяем левый DF(Val_Melb) по Values, а правый Df(Melbourne_fr) по индексу \n",
    "df_freq = Val_Mel.merge(Syd_fre, left_on='Values', right_index=True, how='outer') # Объединяем левый DF(Val_Melb) по Values, а правый Df(Sydney_fr) по индексу \n",
    "df_freq.set_index('Values',inplace=True) # Делаем индексом колонку \"Values\"\n",
    "df_freq"
   ]
  },
  {
   "cell_type": "code",
   "execution_count": 191,
   "id": "705cb52e",
   "metadata": {},
   "outputs": [],
   "source": [
    "def adjacent_values(vals, q1, q3):\n",
    "    upper_adjacent_value = q3 + (q3 - q1) * 1.5\n",
    "    upper_adjacent_value = np.clip(upper_adjacent_value, q3, vals[-1])\n",
    "\n",
    "    lower_adjacent_value = q1 - (q3 - q1) * 1.5\n",
    "    lower_adjacent_value = np.clip(lower_adjacent_value, vals[0], q1)\n",
    "    return lower_adjacent_value, upper_adjacent_value"
   ]
  },
  {
   "cell_type": "code",
   "execution_count": 192,
   "id": "d2270159",
   "metadata": {},
   "outputs": [],
   "source": [
    "def set_axis_style(ax, labels):\n",
    "    ax.xaxis.set_tick_params(direction='out',length=3, width=2, colors='k')# Ставит галочки внутри осей, вне осей, или оба.\n",
    "    ax.xaxis.set_ticks_position('bottom')\n",
    "    ax.set_xticks(np.arange(1, len(labels) + 1))\n",
    "    ax.set_xticklabels(labels)\n",
    "    ax.set_xlim(0.25, len(labels) + 0.75)\n",
    "    #ax.set_xlabel('Sample name')"
   ]
  },
  {
   "cell_type": "code",
   "execution_count": 193,
   "id": "f4f5cd89",
   "metadata": {},
   "outputs": [
    {
     "data": {
      "image/png": "[encoded data removed]",
      "text/plain": [
       "<Figure size 936x648 with 4 Axes>"
      ]
     },
     "metadata": {
      "needs_background": "light"
     },
     "output_type": "display_data"
    }
   ],
   "source": [
    "fig, axes = plt.subplots(nrows=2, ncols=2,figsize=(13, 9))\n",
    "# Отобразим частотность температур в Мельбурне и Сиднее на одном графике (гистограмма)\n",
    "axes[0, 0].hist(x=Mel, range=(df_freq.index.values.min(), df_freq.index.values.max()),\n",
    "          alpha=0.4, bins=len(df_freq.index), color='cyan', edgecolor='black', label='Melbourne')\n",
    "axes[0, 0].hist(x=Syd, range=(df_freq.index.values.min(), df_freq.index.values.max()),\n",
    "          alpha=0.4, bins=len(df_freq.index), color='coral', edgecolor='black', label='Sydney')\n",
    "axes[0, 0].set_title('Гистограмма температур в Мельбурне и Сиднее в феврале')\n",
    "axes[0, 0].legend() # Выводим легенду\n",
    "#  Устанавливаем интервал основных делений:\n",
    "axes[0, 0].xaxis.set_major_locator(ticker.MultipleLocator(1))\n",
    "#  Устанавливаем интервал вспомогательных делений:\n",
    "axes[0, 0].xaxis.set_minor_locator(ticker.MultipleLocator(0.5))\n",
    "\n",
    "#------------------------------------------------------------------------------\n",
    "axes[0, 1].plot(df_freq.index.values, df_freq.Sydney.values, label = 'Sydney',color='darkturquoise',linewidth=3)\n",
    "axes[0, 1].plot(df_freq.index.values, df_freq.Melbourne.values, label = 'Melbourne', color='coral',linewidth=3)\n",
    "\n",
    "axes[0, 1].set_title('Полигон частот')\n",
    "axes[0, 1].grid() # Добавим сетку\n",
    "axes[0, 1].legend() # Выводим легенду\n",
    "#  Устанавливаем интервал основных делений:\n",
    "axes[0, 1].xaxis.set_major_locator(ticker.MultipleLocator(1))\n",
    "#  Устанавливаем интервал вспомогательных делений:\n",
    "axes[0, 1].xaxis.set_minor_locator(ticker.MultipleLocator(0.5))\n",
    "\n",
    "#------------------------------------------------------------------------------\n",
    "axes[1, 0].boxplot(x = [Mel, Syd], labels = ['Melbourne', 'Sydney'],notch=True, widths=0.35, patch_artist=True, boxprops=dict(facecolor=\"paleturquoise\"))\n",
    "# axes[1, 0].boxplot(Syd)\n",
    "\n",
    "axes[1, 0].set_title('Boxplot (ящик с усами)')\n",
    "axes[1, 0].grid() # Добавим сетку\n",
    "#  Устанавливаем интервал основных делений:\n",
    "axes[1, 0].yaxis.set_major_locator(ticker.MultipleLocator(1))\n",
    "#  Устанавливаем интервал вспомогательных делений:\n",
    "axes[1, 0].yaxis.set_minor_locator(ticker.MultipleLocator(0.5))\n",
    "\n",
    "#------------------------------------------------------------------------------\n",
    "parts = axes[1, 1].violinplot(dataset = [Mel,Syd], points=100, widths=0.5, showmeans=False, showmedians=False,\n",
    "        showextrema=False)\n",
    "for pc in parts['bodies']:\n",
    "    pc.set_facecolor('paleturquoise')\n",
    "    pc.set_edgecolor('indigo')\n",
    "    pc.set_alpha(1)\n",
    "\n",
    "\n",
    "quartile1, medians, quartile3 = np.percentile(np.array(data.T), [25, 50, 75], axis=1)\n",
    "whiskers = np.array([\n",
    "    adjacent_values(sorted_array, q1, q3)\n",
    "    for sorted_array, q1, q3 in zip(np.array(data.T), quartile1, quartile3)])\n",
    "whiskers_min, whiskers_max = whiskers[:, 0], whiskers[:, 1]\n",
    "\n",
    "inds = np.arange(1, len(medians) + 1)\n",
    "axes[1, 1].scatter(inds, medians, marker='o', color='cyan', s=30, zorder=3)\n",
    "axes[1, 1].vlines(inds, quartile1, quartile3, color='violet', linestyle='-', lw=11)\n",
    "axes[1, 1].vlines(inds, whiskers_min, whiskers_max, color='indigo', linestyle='-', lw=1)\n",
    "\n",
    "axes[1, 1].set_title('Violinplot')\n",
    "axes[1, 1].grid(axis='y') # Добавим сетку\n",
    "#  Устанавливаем интервал основных делений:\n",
    "axes[1, 1].yaxis.set_major_locator(ticker.MultipleLocator(1))\n",
    "#  Устанавливаем интервал вспомогательных делений:\n",
    "axes[1, 1].yaxis.set_minor_locator(ticker.MultipleLocator(0.5))\n",
    "\n",
    "set_axis_style(axes[1, 1], ['Melbourne', 'Sydney'])"
   ]
  },
  {
   "cell_type": "code",
   "execution_count": 197,
   "id": "9d4f7870",
   "metadata": {},
   "outputs": [],
   "source": [
    "df_freq['Melbourne_stat'] = df_freq['Melbourne']/len(df['Melbourne'])\n",
    "df_freq['Sydney_stat'] = df_freq['Sydney']/len(df['Sydney'])"
   ]
  },
  {
   "cell_type": "code",
   "execution_count": 198,
   "id": "10e81b8e",
   "metadata": {},
   "outputs": [
    {
     "data": {
      "text/html": [
       "<div>\n",
       "<style scoped>\n",
       "    .dataframe tbody tr th:only-of-type {\n",
       "        vertical-align: middle;\n",
       "    }\n",
       "\n",
       "    .dataframe tbody tr th {\n",
       "        vertical-align: top;\n",
       "    }\n",
       "\n",
       "    .dataframe thead th {\n",
       "        text-align: right;\n",
       "    }\n",
       "</style>\n",
       "<table border=\"1\" class=\"dataframe\">\n",
       "  <thead>\n",
       "    <tr style=\"text-align: right;\">\n",
       "      <th></th>\n",
       "      <th>Melbourne</th>\n",
       "      <th>Sydney</th>\n",
       "      <th>Melbourne_stat</th>\n",
       "      <th>Sydney_stat</th>\n",
       "    </tr>\n",
       "    <tr>\n",
       "      <th>Values</th>\n",
       "      <th></th>\n",
       "      <th></th>\n",
       "      <th></th>\n",
       "      <th></th>\n",
       "    </tr>\n",
       "  </thead>\n",
       "  <tbody>\n",
       "    <tr>\n",
       "      <th>21</th>\n",
       "      <td>1.0</td>\n",
       "      <td>0.0</td>\n",
       "      <td>0.035714</td>\n",
       "      <td>0.000000</td>\n",
       "    </tr>\n",
       "    <tr>\n",
       "      <th>23</th>\n",
       "      <td>6.0</td>\n",
       "      <td>1.0</td>\n",
       "      <td>0.214286</td>\n",
       "      <td>0.035714</td>\n",
       "    </tr>\n",
       "    <tr>\n",
       "      <th>24</th>\n",
       "      <td>4.0</td>\n",
       "      <td>2.0</td>\n",
       "      <td>0.142857</td>\n",
       "      <td>0.071429</td>\n",
       "    </tr>\n",
       "    <tr>\n",
       "      <th>25</th>\n",
       "      <td>2.0</td>\n",
       "      <td>4.0</td>\n",
       "      <td>0.071429</td>\n",
       "      <td>0.142857</td>\n",
       "    </tr>\n",
       "    <tr>\n",
       "      <th>26</th>\n",
       "      <td>3.0</td>\n",
       "      <td>4.0</td>\n",
       "      <td>0.107143</td>\n",
       "      <td>0.142857</td>\n",
       "    </tr>\n",
       "    <tr>\n",
       "      <th>27</th>\n",
       "      <td>2.0</td>\n",
       "      <td>3.0</td>\n",
       "      <td>0.071429</td>\n",
       "      <td>0.107143</td>\n",
       "    </tr>\n",
       "    <tr>\n",
       "      <th>28</th>\n",
       "      <td>2.0</td>\n",
       "      <td>3.0</td>\n",
       "      <td>0.071429</td>\n",
       "      <td>0.107143</td>\n",
       "    </tr>\n",
       "    <tr>\n",
       "      <th>29</th>\n",
       "      <td>1.0</td>\n",
       "      <td>6.0</td>\n",
       "      <td>0.035714</td>\n",
       "      <td>0.214286</td>\n",
       "    </tr>\n",
       "    <tr>\n",
       "      <th>30</th>\n",
       "      <td>1.0</td>\n",
       "      <td>2.0</td>\n",
       "      <td>0.035714</td>\n",
       "      <td>0.071429</td>\n",
       "    </tr>\n",
       "    <tr>\n",
       "      <th>31</th>\n",
       "      <td>1.0</td>\n",
       "      <td>2.0</td>\n",
       "      <td>0.035714</td>\n",
       "      <td>0.071429</td>\n",
       "    </tr>\n",
       "    <tr>\n",
       "      <th>32</th>\n",
       "      <td>2.0</td>\n",
       "      <td>0.0</td>\n",
       "      <td>0.071429</td>\n",
       "      <td>0.000000</td>\n",
       "    </tr>\n",
       "    <tr>\n",
       "      <th>33</th>\n",
       "      <td>1.0</td>\n",
       "      <td>0.0</td>\n",
       "      <td>0.035714</td>\n",
       "      <td>0.000000</td>\n",
       "    </tr>\n",
       "    <tr>\n",
       "      <th>35</th>\n",
       "      <td>2.0</td>\n",
       "      <td>0.0</td>\n",
       "      <td>0.071429</td>\n",
       "      <td>0.000000</td>\n",
       "    </tr>\n",
       "    <tr>\n",
       "      <th>37</th>\n",
       "      <td>0.0</td>\n",
       "      <td>1.0</td>\n",
       "      <td>0.000000</td>\n",
       "      <td>0.035714</td>\n",
       "    </tr>\n",
       "  </tbody>\n",
       "</table>\n",
       "</div>"
      ],
      "text/plain": [
       "        Melbourne  Sydney  Melbourne_stat  Sydney_stat\n",
       "Values                                                \n",
       "21            1.0     0.0        0.035714     0.000000\n",
       "23            6.0     1.0        0.214286     0.035714\n",
       "24            4.0     2.0        0.142857     0.071429\n",
       "25            2.0     4.0        0.071429     0.142857\n",
       "26            3.0     4.0        0.107143     0.142857\n",
       "27            2.0     3.0        0.071429     0.107143\n",
       "28            2.0     3.0        0.071429     0.107143\n",
       "29            1.0     6.0        0.035714     0.214286\n",
       "30            1.0     2.0        0.035714     0.071429\n",
       "31            1.0     2.0        0.035714     0.071429\n",
       "32            2.0     0.0        0.071429     0.000000\n",
       "33            1.0     0.0        0.035714     0.000000\n",
       "35            2.0     0.0        0.071429     0.000000\n",
       "37            0.0     1.0        0.000000     0.035714"
      ]
     },
     "execution_count": 198,
     "metadata": {},
     "output_type": "execute_result"
    }
   ],
   "source": [
    "df_freq.fillna(0)"
   ]
  },
  {
   "cell_type": "code",
   "execution_count": 199,
   "id": "193d2340",
   "metadata": {},
   "outputs": [
    {
     "name": "stdout",
     "output_type": "stream",
     "text": [
      "Эмпирическая функция распределения и камулятива распределения\n"
     ]
    },
    {
     "data": {
      "image/png": "[encoded data removed]",
      "text/plain": [
       "<Figure size 1080x360 with 2 Axes>"
      ]
     },
     "metadata": {
      "needs_background": "light"
     },
     "output_type": "display_data"
    }
   ],
   "source": [
    "print('Эмпирическая функция распределения и камулятива распределения')\n",
    "fig, axes = plt.subplots(nrows=1, ncols=2,figsize=(15, 5))\n",
    "axes[0].set_title('Мельбурн')\n",
    "axes[0].bar(df_freq[~ df_freq['Melbourne'].isna()].index, df_freq.Melbourne_stat.cumsum().dropna(), width=1, edgecolor='black', alpha=0.5, color='orange' )\n",
    "axes[0].plot(df_freq[~ df_freq['Melbourne'].isna()].index, df_freq.Melbourne_stat.cumsum().dropna())\n",
    "#~ df_freq['Melbourne'].isna() - маска тех значений, которые присутствуют в ряде\n",
    "#  Устанавливаем интервал основных делений:\n",
    "axes[0].xaxis.set_major_locator(ticker.MultipleLocator(1))\n",
    "#  Устанавливаем интервал вспомогательных делений:\n",
    "axes[0].xaxis.set_minor_locator(ticker.MultipleLocator(0.5))\n",
    "\n",
    "axes[1].set_title('Сидней')\n",
    "axes[1].bar(df_freq[~ df_freq['Sydney'].isna()].index, df_freq.Sydney_stat.cumsum().dropna(), width=1, edgecolor='black', alpha=0.5, color='orange' )\n",
    "axes[1].plot(df_freq[~ df_freq['Sydney'].isna()].index, df_freq.Sydney_stat.cumsum().dropna())\n",
    "#  Устанавливаем интервал основных делений:\n",
    "axes[1].xaxis.set_major_locator(ticker.MultipleLocator(1))\n",
    "#  Устанавливаем интервал вспомогательных делений:\n",
    "axes[1].xaxis.set_minor_locator(ticker.MultipleLocator(0.5))"
   ]
  },
  {
   "cell_type": "code",
   "execution_count": 43,
   "id": "2ac3020c",
   "metadata": {},
   "outputs": [],
   "source": [
    "# Считаем частоту вхождения вручную\n",
    "def Stat_seq(data):\n",
    "    return pd.DataFrame({\"frequency\": [len(data[data==data.unique()[i]]) for i in range(0,len(data.unique()))] }, index=data.unique())"
   ]
  },
  {
   "cell_type": "code",
   "execution_count": 147,
   "id": "4a20af17",
   "metadata": {},
   "outputs": [],
   "source": [
    "def plot_empirical_cdf(sample):\n",
    "    hist, edges = np.histogram(sample, bins=len(sample))\n",
    "    Y = hist.cumsum()\n",
    "    for i in range(len(Y)):\n",
    "        plt.plot([edges[i], edges[i+1]],[Y[i], Y[i]], c=\"blue\")\n",
    "    plt.show()"
   ]
  },
  {
   "cell_type": "code",
   "execution_count": 148,
   "id": "07ba5aa7",
   "metadata": {},
   "outputs": [
    {
     "data": {
      "image/png": "[encoded data removed]",
      "text/plain": [
       "<Figure size 432x288 with 1 Axes>"
      ]
     },
     "metadata": {
      "needs_background": "light"
     },
     "output_type": "display_data"
    }
   ],
   "source": [
    "plot_empirical_cdf(data1) #функция распределения"
   ]
  },
  {
   "cell_type": "code",
   "execution_count": 149,
   "id": "92789ecf",
   "metadata": {},
   "outputs": [
    {
     "data": {
      "image/png": "[encoded data removed]",
      "text/plain": [
       "<Figure size 1080x720 with 1 Axes>"
      ]
     },
     "metadata": {
      "needs_background": "light"
     },
     "output_type": "display_data"
    }
   ],
   "source": [
    "plt.figure(figsize=(15,10))\n",
    "sns.kdeplot(data1, cumulative=True)\n",
    "plt.title('Выборочная функция распределения', fontsize=30)\n",
    "plt.show()"
   ]
  },
  {
   "cell_type": "code",
   "execution_count": 150,
   "id": "90ab11f7",
   "metadata": {},
   "outputs": [
    {
     "data": {
      "text/plain": [
       "<Figure size 200x150 with 0 Axes>"
      ]
     },
     "metadata": {},
     "output_type": "display_data"
    },
    {
     "data": {
      "image/png": "[encoded data removed]",
      "text/plain": [
       "<Figure size 360x360 with 1 Axes>"
      ]
     },
     "metadata": {
      "needs_background": "light"
     },
     "output_type": "display_data"
    }
   ],
   "source": [
    "plt.figure(figsize=(20,15), dpi= 10)\n",
    "sns.displot(\n",
    "            kind=\"ecdf\",\n",
    "            data=data1);\n",
    "plt.title('Выборочная функция распределения', fontsize=15)\n",
    "plt.show()"
   ]
  },
  {
   "attachments": {
    "image-2.png": {
     "image/png": "[encoded data removed]"
    },
    "image-3.png": {
     "image/png": "[encoded data removed]"
    },
    "image-4.png": {
     "image/png": "[encoded data removed]"
    },
    "image.png": {
     "image/png": "[encoded data removed]"
    }
   },
   "cell_type": "markdown",
   "id": "4b71fad5",
   "metadata": {},
   "source": [
    "Выборочное математическое ожидание(выборочное среднее)\n",
    "![image.png](attachment:image.png)\n",
    "Выборочная дисперсия\n",
    "![image-2.png](attachment:image-2.png)\n",
    "Исправленная(несмещенная) выборочная дисперсия\n",
    "![image-3.png](attachment:image-3.png)\n",
    "Мода - наиболее часто встречающееся значение в выборке\n",
    "Медиана - значение, которое делит распределение пополам\n",
    "Межквартильный размах: Q_3 - Q_1\n",
    "Эмпирическая функция распределения\n",
    "![image-4.png](attachment:image-4.png)"
   ]
  },
  {
   "cell_type": "code",
   "execution_count": 152,
   "id": "9164c1d4",
   "metadata": {},
   "outputs": [
    {
     "name": "stdout",
     "output_type": "stream",
     "text": [
      "Выборочное среденее: 27.607\n",
      "Выборочная дисперсия: 8.173\n"
     ]
    }
   ],
   "source": [
    "print('Выборочное среденее: %.3f' % data1.mean())\n",
    "print('Выборочная дисперсия: %.3f' % data1.var())"
   ]
  },
  {
   "cell_type": "code",
   "execution_count": 67,
   "id": "7637b4d0",
   "metadata": {},
   "outputs": [],
   "source": [
    "def Выборочное_среднее(data):\n",
    "    return sum(data)/len(data)"
   ]
  },
  {
   "cell_type": "code",
   "execution_count": 68,
   "id": "34fbd299",
   "metadata": {},
   "outputs": [],
   "source": [
    "def Выборочная_дисперсия(data):\n",
    "    return sum(data.copy().map(lambda x: x**2))/len(data) - (sum(data)/len(data))**2"
   ]
  },
  {
   "cell_type": "code",
   "execution_count": 69,
   "id": "bdc693e1",
   "metadata": {},
   "outputs": [],
   "source": [
    "def Исправленная_выборочная_дисперсия(data):\n",
    "    M=(sum(data)/len(data)) #выборочное мат ожидание\n",
    "    return sum(data.copy().map(lambda x: (x-M)**2))/(len(data)-1)"
   ]
  },
  {
   "cell_type": "code",
   "execution_count": 70,
   "id": "e4ed4405",
   "metadata": {},
   "outputs": [
    {
     "name": "stdout",
     "output_type": "stream",
     "text": [
      "Выборочное среденее для Мельбурна: 26.786\n",
      "Выборочное среденее для Сиднея: 27.607\n"
     ]
    }
   ],
   "source": [
    "print('Выборочное среденее для Мельбурна: %.3f' % Выборочное_среднее(Mel))\n",
    "print('Выборочное среденее для Сиднея: %.3f' % Выборочное_среднее(Syd))"
   ]
  },
  {
   "cell_type": "code",
   "execution_count": 71,
   "id": "292fd9d4",
   "metadata": {},
   "outputs": [
    {
     "name": "stdout",
     "output_type": "stream",
     "text": [
      "Выборочная дисперсия для Мельбурна: 15.097\n",
      "Выборочная дисперсия для Сиднея: 7.881\n"
     ]
    }
   ],
   "source": [
    "print('Выборочная дисперсия для Мельбурна: %.3f' % Выборочная_дисперсия(Mel))\n",
    "print('Выборочная дисперсия для Сиднея: %.3f' % Выборочная_дисперсия(Syd))"
   ]
  },
  {
   "cell_type": "code",
   "execution_count": 72,
   "id": "9bd9dec5",
   "metadata": {},
   "outputs": [
    {
     "name": "stdout",
     "output_type": "stream",
     "text": [
      "Исправленная выборочная дисперсия для Мельбурна: 15.656\n",
      "Исправленная выборочная дисперсия для Сиднея: 8.173\n"
     ]
    }
   ],
   "source": [
    "print('Исправленная выборочная дисперсия для Мельбурна: %.3f' % Исправленная_выборочная_дисперсия(Mel))\n",
    "print('Исправленная выборочная дисперсия для Сиднея: %.3f' % Исправленная_выборочная_дисперсия(Syd))"
   ]
  },
  {
   "cell_type": "code",
   "execution_count": 73,
   "id": "9d1b4719",
   "metadata": {},
   "outputs": [
    {
     "name": "stdout",
     "output_type": "stream",
     "text": [
      "Стандартное отклонение для Мельбурна: 3.957\n",
      "Стандартное отклонение для Сиднея: 2.859\n"
     ]
    }
   ],
   "source": [
    "print('Стандартное отклонение для Мельбурна: %.3f' % np.sqrt(Исправленная_выборочная_дисперсия(Mel)))\n",
    "print('Стандартное отклонение для Сиднея: %.3f' % np.sqrt(Исправленная_выборочная_дисперсия(Syd)))"
   ]
  }
 ],
 "metadata": {
  "kernelspec": {
   "display_name": "Python 3 (ipykernel)",
   "language": "python",
   "name": "python3"
  },
  "language_info": {
   "codemirror_mode": {
    "name": "ipython",
    "version": 3
   },
   "file_extension": ".py",
   "mimetype": "text/x-python",
   "name": "python",
   "nbconvert_exporter": "python",
   "pygments_lexer": "ipython3",
   "version": "3.9.7"
  }
 },
 "nbformat": 4,
 "nbformat_minor": 5
}
