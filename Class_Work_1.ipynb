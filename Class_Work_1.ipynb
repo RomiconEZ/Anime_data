{
 "cells": [
  {
   "cell_type": "code",
   "execution_count": 46,
   "id": "e82df677",
   "metadata": {},
   "outputs": [],
   "source": [
    "import pandas as pd\n",
    "import numpy as np\n"
   ]
  },
  {
   "cell_type": "code",
   "execution_count": 47,
   "id": "07db5cc4",
   "metadata": {},
   "outputs": [],
   "source": [
    "data = pd.read_excel('./fileExcel.xlsx')"
   ]
  },
  {
   "cell_type": "code",
   "execution_count": 48,
   "id": "45bb5fa0",
   "metadata": {},
   "outputs": [
    {
     "name": "stdout",
     "output_type": "stream",
     "text": [
      "<class 'pandas.core.frame.DataFrame'>\n",
      "RangeIndex: 5 entries, 0 to 4\n",
      "Data columns (total 5 columns):\n",
      " #   Column            Non-Null Count  Dtype         \n",
      "---  ------            --------------  -----         \n",
      " 0   ФИО               5 non-null      object        \n",
      " 1   Роль              5 non-null      object        \n",
      " 2   название          5 non-null      object        \n",
      " 3   дата регистрации  5 non-null      datetime64[ns]\n",
      " 4   статус заявки     5 non-null      object        \n",
      "dtypes: datetime64[ns](1), object(4)\n",
      "memory usage: 328.0+ bytes\n"
     ]
    }
   ],
   "source": [
    "data.info()"
   ]
  },
  {
   "cell_type": "code",
   "execution_count": 49,
   "id": "7732a2e1",
   "metadata": {},
   "outputs": [],
   "source": [
    "data = data.drop(\"название\", axis=1)\n",
    "data = data.drop(\"дата регистрации\", axis=1)\n",
    "data = data.drop(\"статус заявки\", axis=1)\n"
   ]
  },
  {
   "cell_type": "code",
   "execution_count": 50,
   "id": "e8bd4c01",
   "metadata": {},
   "outputs": [
    {
     "data": {
      "text/html": [
       "<div>\n",
       "<style scoped>\n",
       "    .dataframe tbody tr th:only-of-type {\n",
       "        vertical-align: middle;\n",
       "    }\n",
       "\n",
       "    .dataframe tbody tr th {\n",
       "        vertical-align: top;\n",
       "    }\n",
       "\n",
       "    .dataframe thead th {\n",
       "        text-align: right;\n",
       "    }\n",
       "</style>\n",
       "<table border=\"1\" class=\"dataframe\">\n",
       "  <thead>\n",
       "    <tr style=\"text-align: right;\">\n",
       "      <th></th>\n",
       "      <th>ФИО</th>\n",
       "      <th>Роль</th>\n",
       "    </tr>\n",
       "  </thead>\n",
       "  <tbody>\n",
       "    <tr>\n",
       "      <th>0</th>\n",
       "      <td>Иванов Петр Сергеевич</td>\n",
       "      <td>Руководитель</td>\n",
       "    </tr>\n",
       "    <tr>\n",
       "      <th>1</th>\n",
       "      <td>Иванов Сергей Иванович</td>\n",
       "      <td>Исполнитель</td>\n",
       "    </tr>\n",
       "    <tr>\n",
       "      <th>2</th>\n",
       "      <td>Петров Аркадий Иванович</td>\n",
       "      <td>Исполнитель</td>\n",
       "    </tr>\n",
       "    <tr>\n",
       "      <th>3</th>\n",
       "      <td>Семенов Илья Петрович</td>\n",
       "      <td>Руководитель</td>\n",
       "    </tr>\n",
       "    <tr>\n",
       "      <th>4</th>\n",
       "      <td>Лапина Наталья Васильевна</td>\n",
       "      <td>Руководитель</td>\n",
       "    </tr>\n",
       "  </tbody>\n",
       "</table>\n",
       "</div>"
      ],
      "text/plain": [
       "                         ФИО          Роль\n",
       "0      Иванов Петр Сергеевич  Руководитель\n",
       "1     Иванов Сергей Иванович   Исполнитель\n",
       "2    Петров Аркадий Иванович   Исполнитель\n",
       "3      Семенов Илья Петрович  Руководитель\n",
       "4  Лапина Наталья Васильевна  Руководитель"
      ]
     },
     "execution_count": 50,
     "metadata": {},
     "output_type": "execute_result"
    }
   ],
   "source": [
    "data.head()"
   ]
  },
  {
   "cell_type": "code",
   "execution_count": 51,
   "id": "2f6627c3",
   "metadata": {},
   "outputs": [],
   "source": [
    "outdata = pd.DataFrame({'Роли': ['Руководитель', 'Исполнитель'], 'Люди': [\"\",\"\"]})"
   ]
  },
  {
   "cell_type": "code",
   "execution_count": 52,
   "id": "ed908e1e",
   "metadata": {},
   "outputs": [
    {
     "data": {
      "text/html": [
       "<div>\n",
       "<style scoped>\n",
       "    .dataframe tbody tr th:only-of-type {\n",
       "        vertical-align: middle;\n",
       "    }\n",
       "\n",
       "    .dataframe tbody tr th {\n",
       "        vertical-align: top;\n",
       "    }\n",
       "\n",
       "    .dataframe thead th {\n",
       "        text-align: right;\n",
       "    }\n",
       "</style>\n",
       "<table border=\"1\" class=\"dataframe\">\n",
       "  <thead>\n",
       "    <tr style=\"text-align: right;\">\n",
       "      <th></th>\n",
       "      <th>Роли</th>\n",
       "      <th>Люди</th>\n",
       "    </tr>\n",
       "  </thead>\n",
       "  <tbody>\n",
       "    <tr>\n",
       "      <th>0</th>\n",
       "      <td>Руководитель</td>\n",
       "      <td></td>\n",
       "    </tr>\n",
       "    <tr>\n",
       "      <th>1</th>\n",
       "      <td>Исполнитель</td>\n",
       "      <td></td>\n",
       "    </tr>\n",
       "  </tbody>\n",
       "</table>\n",
       "</div>"
      ],
      "text/plain": [
       "           Роли Люди\n",
       "0  Руководитель     \n",
       "1   Исполнитель     "
      ]
     },
     "execution_count": 52,
     "metadata": {},
     "output_type": "execute_result"
    }
   ],
   "source": [
    "outdata.head()"
   ]
  },
  {
   "cell_type": "code",
   "execution_count": 53,
   "id": "6d70dd39",
   "metadata": {},
   "outputs": [],
   "source": [
    "for row in data.itertuples(index=False):\n",
    "    if (row[1]=='Руководитель'): \n",
    "        outdata.iloc[0,1]+=row[0]+\" \"\n",
    "    if (row[1]=='Исполнитель'): \n",
    "        outdata.iloc[1,1]+=row[0]+\" \""
   ]
  },
  {
   "cell_type": "code",
   "execution_count": 54,
   "id": "02af4af0",
   "metadata": {},
   "outputs": [
    {
     "data": {
      "text/html": [
       "<div>\n",
       "<style scoped>\n",
       "    .dataframe tbody tr th:only-of-type {\n",
       "        vertical-align: middle;\n",
       "    }\n",
       "\n",
       "    .dataframe tbody tr th {\n",
       "        vertical-align: top;\n",
       "    }\n",
       "\n",
       "    .dataframe thead th {\n",
       "        text-align: right;\n",
       "    }\n",
       "</style>\n",
       "<table border=\"1\" class=\"dataframe\">\n",
       "  <thead>\n",
       "    <tr style=\"text-align: right;\">\n",
       "      <th></th>\n",
       "      <th>Роли</th>\n",
       "      <th>Люди</th>\n",
       "    </tr>\n",
       "  </thead>\n",
       "  <tbody>\n",
       "    <tr>\n",
       "      <th>0</th>\n",
       "      <td>Руководитель</td>\n",
       "      <td>Иванов Петр Сергеевич ; Семенов Илья Петрович ...</td>\n",
       "    </tr>\n",
       "    <tr>\n",
       "      <th>1</th>\n",
       "      <td>Исполнитель</td>\n",
       "      <td>Иванов Сергей Иванович ; Петров Аркадий Иванов...</td>\n",
       "    </tr>\n",
       "  </tbody>\n",
       "</table>\n",
       "</div>"
      ],
      "text/plain": [
       "           Роли                                               Люди\n",
       "0  Руководитель  Иванов Петр Сергеевич ; Семенов Илья Петрович ...\n",
       "1   Исполнитель  Иванов Сергей Иванович ; Петров Аркадий Иванов..."
      ]
     },
     "execution_count": 54,
     "metadata": {},
     "output_type": "execute_result"
    }
   ],
   "source": [
    "outdata.head()"
   ]
  },
  {
   "cell_type": "code",
   "execution_count": 55,
   "id": "b7bc7a6c",
   "metadata": {},
   "outputs": [],
   "source": [
    "outdata.to_excel('outdata.xlsx')"
   ]
  },
  {
   "cell_type": "code",
   "execution_count": null,
   "id": "6042e932",
   "metadata": {},
   "outputs": [],
   "source": []
  }
 ],
 "metadata": {
  "kernelspec": {
   "display_name": "Python 3 (ipykernel)",
   "language": "python",
   "name": "python3"
  },
  "language_info": {
   "codemirror_mode": {
    "name": "ipython",
    "version": 3
   },
   "file_extension": ".py",
   "mimetype": "text/x-python",
   "name": "python",
   "nbconvert_exporter": "python",
   "pygments_lexer": "ipython3",
   "version": "3.9.7"
  }
 },
 "nbformat": 4,
 "nbformat_minor": 5
}
