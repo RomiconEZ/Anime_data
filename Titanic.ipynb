{
 "cells": [
  {
   "cell_type": "code",
   "execution_count": 54,
   "id": "5c11b22a",
   "metadata": {},
   "outputs": [],
   "source": [
    "import numpy as np \n",
    "import pandas as pd"
   ]
  },
  {
   "cell_type": "code",
   "execution_count": 282,
   "id": "bdb61dc8",
   "metadata": {},
   "outputs": [],
   "source": [
    "train_data = pd.read_csv('D:\\семинары по python\\Датасеты\\Titanic_train.csv',index_col='PassengerId')\n",
    "test_data = pd.read_csv('D:\\семинары по python\\Датасеты\\Titanic_test.csv',index_col='PassengerId')"
   ]
  },
  {
   "cell_type": "code",
   "execution_count": 283,
   "id": "dba4783f",
   "metadata": {},
   "outputs": [],
   "source": [
    "train_data = pd.concat([train_data, test_data])"
   ]
  },
  {
   "cell_type": "code",
   "execution_count": 284,
   "id": "786a20f9",
   "metadata": {},
   "outputs": [],
   "source": [
    "num_cols = [\n",
    "    'Pclass',\n",
    "    'Age',\n",
    "    'SibSp',\n",
    "    'Parch',\n",
    "    'Fare',\n",
    "]\n",
    "\n",
    "cat_cols = [\n",
    "    'Sex',\n",
    "    'Embarked',\n",
    "]\n",
    "\n",
    "target_col = 'Survived'\n",
    "\n",
    "cols = num_cols + cat_cols + [target_col]\n",
    "data = train_data[cols]"
   ]
  },
  {
   "cell_type": "code",
   "execution_count": 285,
   "id": "a7b592d8",
   "metadata": {
    "scrolled": true
   },
   "outputs": [],
   "source": [
    "columns = ('Pclass Age SibSp Parch Fare Sex Embarked Survived')\n",
    "numeric_indices = np.array([0, 1, 2, 3, 4, 7])\n",
    "categorical_indices = np.array([5, 6])\n",
    "data.columns = columns.split() \n",
    "#data = data.dropna()\n"
   ]
  },
  {
   "cell_type": "markdown",
   "id": "824236e0",
   "metadata": {},
   "source": [
    "# Посмотрим на распределение категориальных фичей\n",
    "for col in cat_cols:\n",
    "    print(f\"{col} DISTRIBUTION\")\n",
    "    print(data[col].value_counts())\n",
    "    print()\n",
    "# способ убрать колонки \n",
    "#data = data.drop(columns=['currency'])\n",
    "#cat_cols.remove('currency')"
   ]
  },
  {
   "cell_type": "code",
   "execution_count": 286,
   "id": "33f2b41b",
   "metadata": {},
   "outputs": [],
   "source": [
    "numeric_data = data[data.columns[numeric_indices]]\n",
    "categorial_data = data[data.columns[categorical_indices]]\n"
   ]
  },
  {
   "cell_type": "code",
   "execution_count": 287,
   "id": "2c318749",
   "metadata": {
    "scrolled": true
   },
   "outputs": [],
   "source": [
    "dummy_features = pd.get_dummies(categorial_data)\n",
    "data = pd.concat([numeric_data, dummy_features], axis=1)\n",
    "X_origin = data.iloc[:, :-1]\n"
   ]
  },
  {
   "cell_type": "code",
   "execution_count": 288,
   "id": "ebea2956",
   "metadata": {},
   "outputs": [],
   "source": [
    "from sklearn.preprocessing import StandardScaler\n",
    "\n",
    "scaler = StandardScaler()\n",
    "X_train = data.iloc[0:891, :11]\n",
    "X_test = data.iloc[891:1310, :11]\n",
    "Y_train = X_train['Survived']\n",
    "X_train.drop('Survived', axis=1, inplace=True)\n",
    "X_test.drop('Survived', axis=1, inplace=True)\n",
    "\n"
   ]
  },
  {
   "cell_type": "code",
   "execution_count": 289,
   "id": "e5e16166",
   "metadata": {},
   "outputs": [],
   "source": [
    "X_train_scaled = scaler.fit_transform(X_train)\n",
    "X_test_scaled = scaler.transform(X_test)"
   ]
  },
  {
   "cell_type": "markdown",
   "id": "3b51dc4a",
   "metadata": {},
   "source": [
    "from sklearn.ensemble import RandomForestClassifier\n",
    "\n",
    "y = train_data[\"Survived\"]\n",
    "\n",
    "features = [\"Pclass\", \"Sex\", \"SibSp\", \"Parch\"]\n",
    "X = pd.get_dummies(train_data[features])\n",
    "X_test = pd.get_dummies(test_data[features])\n",
    "\n",
    "model = RandomForestClassifier(n_estimators=100, max_depth=5, random_state=1)\n",
    "model.fit(X, y)\n",
    "predictions = model.predict(X_test)\n",
    "\n",
    "output = pd.DataFrame({'PassengerId': test_data.PassengerId, 'Survived': predictions})\n",
    "output.to_csv('my_submission.csv', index=False)"
   ]
  },
  {
   "cell_type": "code",
   "execution_count": 290,
   "id": "338a85fe",
   "metadata": {},
   "outputs": [],
   "source": [
    "#!pip install xgboost\n"
   ]
  },
  {
   "cell_type": "markdown",
   "id": "613908fa",
   "metadata": {},
   "source": [
    "grid = {'max_depth':10}\n",
    " \n",
    "clf = XGBClassifier()\n",
    "clf.max_depth\n",
    "3\n",
    "clf.set_params(**grid)\n",
    "XGBClassifier(base_score=0.5, colsample_bylevel=1, colsample_bytree=1,\n",
    "       gamma=0, learning_rate=0.1, max_delta_step=0, max_depth=10,\n",
    "       min_child_weight=1, missing=None, n_estimators=100, nthread=-1,\n",
    "       objective='binary:logistic', reg_alpha=0, reg_lambda=1,\n",
    "       scale_pos_weight=1, seed=0, silent=True, subsample=1)\n",
    "clf.max_depth\n",
    "10"
   ]
  },
  {
   "cell_type": "code",
   "execution_count": 291,
   "id": "232edcc7",
   "metadata": {},
   "outputs": [],
   "source": [
    "import xgboost"
   ]
  },
  {
   "cell_type": "code",
   "execution_count": 292,
   "id": "a0002b42",
   "metadata": {},
   "outputs": [
    {
     "name": "stdout",
     "output_type": "stream",
     "text": [
      "[15:20:06] WARNING: C:/Users/Administrator/workspace/xgboost-win64_release_1.4.0/src/learner.cc:1095: Starting in XGBoost 1.3.0, the default evaluation metric used with the objective 'binary:logistic' was changed from 'error' to 'logloss'. Explicitly set eval_metric if you'd like to restore the old behavior.\n"
     ]
    }
   ],
   "source": [
    "grid = {'max_depth':10,\n",
    "        'n_estimators':100,\n",
    "         'objective':'binary:logistic',\n",
    "         'booster' :'gbtree'}\n",
    "boosting_model = xgboost.XGBClassifier(use_label_encoder=False)\n",
    "boosting_model.set_params(**grid)\n",
    "boosting_model.fit(X_train, Y_train)\n",
    "\n",
    "y_train_predicted = boosting_model.predict_proba(X_train)[:, 1]\n",
    "y_test_predicted = boosting_model.predict_proba(X_test)[:, 1]\n"
   ]
  },
  {
   "cell_type": "code",
   "execution_count": 293,
   "id": "c2246b9e",
   "metadata": {},
   "outputs": [],
   "source": [
    "y_test_predicted=y_test_predicted.round(0)\n",
    "y_train_predicted=y_train_predicted.round(0)"
   ]
  },
  {
   "cell_type": "code",
   "execution_count": 295,
   "id": "0be87d74",
   "metadata": {},
   "outputs": [],
   "source": [
    "from sklearn.metrics import roc_auc_score, roc_curve"
   ]
  },
  {
   "cell_type": "code",
   "execution_count": 296,
   "id": "ecc2bbf2",
   "metadata": {},
   "outputs": [],
   "source": [
    "train_auc = roc_auc_score(Y_train, y_train_predicted)"
   ]
  },
  {
   "cell_type": "code",
   "execution_count": 297,
   "id": "ae945d4b",
   "metadata": {},
   "outputs": [
    {
     "data": {
      "text/plain": [
       "0.9775429009682677"
      ]
     },
     "execution_count": 297,
     "metadata": {},
     "output_type": "execute_result"
    }
   ],
   "source": [
    "train_auc"
   ]
  },
  {
   "cell_type": "code",
   "execution_count": 298,
   "id": "fe3d2d37",
   "metadata": {},
   "outputs": [],
   "source": [
    "X_test_copy=X_test.copy()\n",
    "X_test_copy=X_test_copy.drop(['Pclass', 'Age', 'SibSp', 'Parch', 'Fare', 'Sex_female', 'Sex_male', 'Embarked_C', 'Embarked_Q', 'Embarked_S'],axis=1)\n",
    "X_test_copy['Survived']=y_test_predicted"
   ]
  },
  {
   "cell_type": "code",
   "execution_count": 299,
   "id": "bc1d2d98",
   "metadata": {},
   "outputs": [],
   "source": [
    "#df = df.astype({'a': np.float})\n",
    "X_test_int=X_test_copy.copy()\n",
    "X_test_int=X_test_int.astype({'Survived': np.int64})"
   ]
  },
  {
   "cell_type": "code",
   "execution_count": 300,
   "id": "24ee59eb",
   "metadata": {},
   "outputs": [
    {
     "data": {
      "text/html": [
       "<div>\n",
       "<style scoped>\n",
       "    .dataframe tbody tr th:only-of-type {\n",
       "        vertical-align: middle;\n",
       "    }\n",
       "\n",
       "    .dataframe tbody tr th {\n",
       "        vertical-align: top;\n",
       "    }\n",
       "\n",
       "    .dataframe thead th {\n",
       "        text-align: right;\n",
       "    }\n",
       "</style>\n",
       "<table border=\"1\" class=\"dataframe\">\n",
       "  <thead>\n",
       "    <tr style=\"text-align: right;\">\n",
       "      <th></th>\n",
       "      <th>Survived</th>\n",
       "    </tr>\n",
       "    <tr>\n",
       "      <th>PassengerId</th>\n",
       "      <th></th>\n",
       "    </tr>\n",
       "  </thead>\n",
       "  <tbody>\n",
       "    <tr>\n",
       "      <th>892</th>\n",
       "      <td>0</td>\n",
       "    </tr>\n",
       "    <tr>\n",
       "      <th>893</th>\n",
       "      <td>0</td>\n",
       "    </tr>\n",
       "    <tr>\n",
       "      <th>894</th>\n",
       "      <td>1</td>\n",
       "    </tr>\n",
       "    <tr>\n",
       "      <th>895</th>\n",
       "      <td>1</td>\n",
       "    </tr>\n",
       "    <tr>\n",
       "      <th>896</th>\n",
       "      <td>1</td>\n",
       "    </tr>\n",
       "    <tr>\n",
       "      <th>897</th>\n",
       "      <td>0</td>\n",
       "    </tr>\n",
       "    <tr>\n",
       "      <th>898</th>\n",
       "      <td>0</td>\n",
       "    </tr>\n",
       "    <tr>\n",
       "      <th>899</th>\n",
       "      <td>0</td>\n",
       "    </tr>\n",
       "    <tr>\n",
       "      <th>900</th>\n",
       "      <td>1</td>\n",
       "    </tr>\n",
       "    <tr>\n",
       "      <th>901</th>\n",
       "      <td>0</td>\n",
       "    </tr>\n",
       "    <tr>\n",
       "      <th>902</th>\n",
       "      <td>0</td>\n",
       "    </tr>\n",
       "    <tr>\n",
       "      <th>903</th>\n",
       "      <td>0</td>\n",
       "    </tr>\n",
       "    <tr>\n",
       "      <th>904</th>\n",
       "      <td>1</td>\n",
       "    </tr>\n",
       "    <tr>\n",
       "      <th>905</th>\n",
       "      <td>0</td>\n",
       "    </tr>\n",
       "    <tr>\n",
       "      <th>906</th>\n",
       "      <td>1</td>\n",
       "    </tr>\n",
       "    <tr>\n",
       "      <th>907</th>\n",
       "      <td>1</td>\n",
       "    </tr>\n",
       "    <tr>\n",
       "      <th>908</th>\n",
       "      <td>0</td>\n",
       "    </tr>\n",
       "    <tr>\n",
       "      <th>909</th>\n",
       "      <td>1</td>\n",
       "    </tr>\n",
       "    <tr>\n",
       "      <th>910</th>\n",
       "      <td>1</td>\n",
       "    </tr>\n",
       "    <tr>\n",
       "      <th>911</th>\n",
       "      <td>0</td>\n",
       "    </tr>\n",
       "  </tbody>\n",
       "</table>\n",
       "</div>"
      ],
      "text/plain": [
       "             Survived\n",
       "PassengerId          \n",
       "892                 0\n",
       "893                 0\n",
       "894                 1\n",
       "895                 1\n",
       "896                 1\n",
       "897                 0\n",
       "898                 0\n",
       "899                 0\n",
       "900                 1\n",
       "901                 0\n",
       "902                 0\n",
       "903                 0\n",
       "904                 1\n",
       "905                 0\n",
       "906                 1\n",
       "907                 1\n",
       "908                 0\n",
       "909                 1\n",
       "910                 1\n",
       "911                 0"
      ]
     },
     "execution_count": 300,
     "metadata": {},
     "output_type": "execute_result"
    }
   ],
   "source": [
    "X_test_int.head(20)"
   ]
  },
  {
   "cell_type": "code",
   "execution_count": 301,
   "id": "eb04fea1",
   "metadata": {},
   "outputs": [],
   "source": [
    "X_test_int.to_csv('my_submission.csv')"
   ]
  },
  {
   "cell_type": "code",
   "execution_count": null,
   "id": "e21728b8",
   "metadata": {},
   "outputs": [],
   "source": []
  }
 ],
 "metadata": {
  "kernelspec": {
   "display_name": "Python 3",
   "language": "python",
   "name": "python3"
  },
  "language_info": {
   "codemirror_mode": {
    "name": "ipython",
    "version": 3
   },
   "file_extension": ".py",
   "mimetype": "text/x-python",
   "name": "python",
   "nbconvert_exporter": "python",
   "pygments_lexer": "ipython3",
   "version": "3.8.8"
  }
 },
 "nbformat": 4,
 "nbformat_minor": 5
}
